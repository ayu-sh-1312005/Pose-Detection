{
 "cells": [
  {
   "cell_type": "code",
   "execution_count": 2,
   "id": "a34b9b4c",
   "metadata": {},
   "outputs": [],
   "source": [
    "import cv2\n",
    "import mediapipe as mp\n",
    "import time"
   ]
  },
  {
   "cell_type": "code",
   "execution_count": 3,
   "id": "853aae43",
   "metadata": {},
   "outputs": [],
   "source": [
    "mpPose=mp.solutions.pose\n",
    "pose=mpPose.Pose()\n",
    "mpDraw=mp.solutions.drawing_utils\n"
   ]
  },
  {
   "cell_type": "code",
   "execution_count": 7,
   "id": "3e42ea18",
   "metadata": {},
   "outputs": [],
   "source": [
    "cap=cv2.VideoCapture(0)\n",
    "def rescale_frame(frame, percent=75):\n",
    "    width = int(frame.shape[1] * percent/ 100)\n",
    "    height = int(frame.shape[0] * percent/ 100)\n",
    "    dim = (width, height)\n",
    "    return cv2.resize(frame, dim, interpolation =cv2.INTER_AREA)\n",
    "iTime=0\n",
    "pTime=0\n",
    "while True:\n",
    "    success,img=cap.read()\n",
    "    imgRBG=cv2.cvtColor(img,cv2.COLOR_BGR2RGB)\n",
    "    results=pose.process(imgRBG)\n",
    "    \n",
    "    if results.pose_landmarks:\n",
    "        mpDraw.draw_landmarks(img,results.pose_landmarks,mpPose.POSE_CONNECTIONS)\n",
    "        for id,lm in enumerate(results.pose_landmarks.landmark):\n",
    "            h,w,c=img.shape\n",
    "            cv2.circle(img,(int(lm.x*w),int(lm.y*h)),10,(255,0,255),cv2.FILLED)\n",
    "    iTime=time.time()\n",
    "    fps=1/(iTime-pTime)\n",
    "    cv2.putText(img = img,\n",
    "  text = str(int(fps)),\n",
    "  org = (70,50),\n",
    "  fontFace = cv2.FONT_HERSHEY_PLAIN,\n",
    "  fontScale = 3.0,\n",
    "  color = (125, 246, 55),\n",
    "  thickness = 3)\n",
    "    pTime=iTime\n",
    "    cv2.imshow(\"img\",rescale_frame(img,100))\n",
    "    if cv2.waitKey(1) & 0xFF==ord('a'):\n",
    "        break\n",
    "cap.release()\n",
    "cv2.destroyAllWindows()"
   ]
  },
  {
   "cell_type": "code",
   "execution_count": 5,
   "id": "b667bc83",
   "metadata": {},
   "outputs": [
    {
     "data": {
      "text/plain": [
       "['ByteSize',\n",
       " 'Clear',\n",
       " 'ClearExtension',\n",
       " 'ClearField',\n",
       " 'CopyFrom',\n",
       " 'DESCRIPTOR',\n",
       " 'DiscardUnknownFields',\n",
       " 'Extensions',\n",
       " 'FindInitializationErrors',\n",
       " 'FromString',\n",
       " 'HasExtension',\n",
       " 'HasField',\n",
       " 'IsInitialized',\n",
       " 'ListFields',\n",
       " 'MergeFrom',\n",
       " 'MergeFromString',\n",
       " 'ParseFromString',\n",
       " 'RegisterExtension',\n",
       " 'SerializePartialToString',\n",
       " 'SerializeToString',\n",
       " 'SetInParent',\n",
       " 'UnknownFields',\n",
       " 'WhichOneof',\n",
       " '_CheckCalledFromGeneratedFile',\n",
       " '_SetListener',\n",
       " '__class__',\n",
       " '__deepcopy__',\n",
       " '__delattr__',\n",
       " '__dir__',\n",
       " '__doc__',\n",
       " '__eq__',\n",
       " '__format__',\n",
       " '__ge__',\n",
       " '__getattribute__',\n",
       " '__getstate__',\n",
       " '__gt__',\n",
       " '__hash__',\n",
       " '__init__',\n",
       " '__init_subclass__',\n",
       " '__le__',\n",
       " '__lt__',\n",
       " '__module__',\n",
       " '__ne__',\n",
       " '__new__',\n",
       " '__reduce__',\n",
       " '__reduce_ex__',\n",
       " '__repr__',\n",
       " '__setattr__',\n",
       " '__setstate__',\n",
       " '__sizeof__',\n",
       " '__slots__',\n",
       " '__str__',\n",
       " '__subclasshook__',\n",
       " '__unicode__',\n",
       " '_extensions_by_name',\n",
       " '_extensions_by_number',\n",
       " 'landmark']"
      ]
     },
     "execution_count": 5,
     "metadata": {},
     "output_type": "execute_result"
    }
   ],
   "source": [
    "dir(results.pose_landmarks)"
   ]
  }
 ],
 "metadata": {
  "kernelspec": {
   "display_name": "Python 3 (ipykernel)",
   "language": "python",
   "name": "python3"
  },
  "language_info": {
   "codemirror_mode": {
    "name": "ipython",
    "version": 3
   },
   "file_extension": ".py",
   "mimetype": "text/x-python",
   "name": "python",
   "nbconvert_exporter": "python",
   "pygments_lexer": "ipython3",
   "version": "3.10.8"
  }
 },
 "nbformat": 4,
 "nbformat_minor": 5
}
